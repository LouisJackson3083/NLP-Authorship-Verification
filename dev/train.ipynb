{
 "cells": [
  {
   "cell_type": "code",
   "execution_count": 1,
   "id": "ec4aef4f",
   "metadata": {},
   "outputs": [],
   "source": [
    "# Utilities\n",
    "import itertools\n",
    "import importlib\n",
    "import sys\n",
    "import os"
   ]
  },
  {
   "cell_type": "code",
   "execution_count": 2,
   "id": "cadafef4",
   "metadata": {},
   "outputs": [],
   "source": [
    "# Add src to path\n",
    "src_path = os.path.abspath(os.path.join(os.getcwd(), '../src'))\n",
    "if src_path not in sys.path:\n",
    "    sys.path.append(src_path)\n",
    "    \n",
    "import load_and_prepare_data as ld\n",
    "import indexer"
   ]
  },
  {
   "cell_type": "code",
   "execution_count": 18,
   "id": "29a4d912",
   "metadata": {},
   "outputs": [],
   "source": [
    "# Run this to reload our modules\n",
    "importlib.reload(indexer)\n",
    "importlib.reload(ld)\n",
    "from indexer import Indexer"
   ]
  },
  {
   "cell_type": "code",
   "execution_count": 4,
   "id": "71274bf4",
   "metadata": {},
   "outputs": [
    {
     "name": "stdout",
     "output_type": "stream",
     "text": [
      "Prepared 30000 data points.\n",
      "Prepared 6000 data points.\n",
      "Training data size:  27000 \n",
      "Dev data size:  6000 \n",
      "Test data size:  3000\n"
     ]
    }
   ],
   "source": [
    "## Preparing data\n",
    "\n",
    "TRAIN_FIRST_TEXTS, TRAIN_SECOND_TEXTS, TRAIN_LABELS  = ld.prepareData(\"../data/train.csv\", True)\n",
    "DEV_FIRST_TEXTS, DEV_SECOND_TEXTS, DEV_LABELS = ld.prepareData(\"../data/dev.csv\", True)\n",
    "\n",
    "TRAIN_FIRST_TEXTS, TRAIN_SECOND_TEXTS, TRAIN_LABELS, \\\n",
    "TEST_FIRST_TEXTS, TEST_SECOND_TEXTS, TEST_LABELS = ld.split_data(TRAIN_FIRST_TEXTS, TRAIN_SECOND_TEXTS, TRAIN_LABELS)\n",
    "\n",
    "print(\"Training data size: \", len(TRAIN_FIRST_TEXTS),\n",
    "     \"\\nDev data size: \", len(DEV_FIRST_TEXTS), \n",
    "     \"\\nTest data size: \", len(TEST_FIRST_TEXTS))"
   ]
  },
  {
   "cell_type": "code",
   "execution_count": 5,
   "id": "609d40c8",
   "metadata": {},
   "outputs": [
    {
     "name": "stdout",
     "output_type": "stream",
     "text": [
      "3000 3000\n",
      "(1/3) Extracting POS . . .\n",
      "(2/3) Extracting Punctuation . . .\n",
      "(3/3) Extracting Information . . .\n",
      "Cleaned up all data!\n",
      "2995 2995\n"
     ]
    }
   ],
   "source": [
    "test = ld.Dataset(TEST_FIRST_TEXTS, TEST_SECOND_TEXTS, TEST_LABELS)\n",
    "print(len(test.FIRST_TEXTS), len(TEST_FIRST_TEXTS))\n",
    "test.ExtractFeatures()\n",
    "print(len(test.FIRST_TEXTS), len(TEST_FIRST_TEXTS))"
   ]
  },
  {
   "cell_type": "code",
   "execution_count": 6,
   "id": "64eef3de",
   "metadata": {},
   "outputs": [
    {
     "name": "stdout",
     "output_type": "stream",
     "text": [
      "{0: 0, 1: 1}\n",
      "{0: 0, 1: 1}\n"
     ]
    }
   ],
   "source": [
    "label_indexer = Indexer(values=test.LABELS)\n",
    "label_indexer.i2v\n",
    "label_indexer.save(\"i2v.json\", \"v2i.json\")"
   ]
  },
  {
   "cell_type": "code",
   "execution_count": 14,
   "id": "b5f07b41",
   "metadata": {},
   "outputs": [],
   "source": [
    "POS_VALS = list(itertools.chain(*test.FIRST_POS[:2] + test.SECOND_POS[:2]))\n",
    "pos_indexer = Indexer(values=POS_VALS, pre=indexer.POS_PRE)"
   ]
  },
  {
   "cell_type": "code",
   "execution_count": 19,
   "id": "446d6cbc",
   "metadata": {},
   "outputs": [
    {
     "ename": "AttributeError",
     "evalue": "'Indexer' object has no attribute 'i2i'",
     "output_type": "error",
     "traceback": [
      "\u001b[0;31m---------------------------------------------------------------------------\u001b[0m",
      "\u001b[0;31mAttributeError\u001b[0m                            Traceback (most recent call last)",
      "Cell \u001b[0;32mIn[19], line 1\u001b[0m\n\u001b[0;32m----> 1\u001b[0m test\u001b[38;5;241m.\u001b[39mFIRST_POS[:\u001b[38;5;241m2\u001b[39m] \u001b[38;5;241m==\u001b[39m \u001b[43mpos_indexer\u001b[49m\u001b[38;5;241;43m.\u001b[39;49m\u001b[43mapply_i2v\u001b[49m\u001b[43m(\u001b[49m\u001b[43mpos_indexer\u001b[49m\u001b[38;5;241;43m.\u001b[39;49m\u001b[43mapply_v2i\u001b[49m\u001b[43m(\u001b[49m\u001b[43mtest\u001b[49m\u001b[38;5;241;43m.\u001b[39;49m\u001b[43mFIRST_POS\u001b[49m\u001b[43m[\u001b[49m\u001b[43m:\u001b[49m\u001b[38;5;241;43m2\u001b[39;49m\u001b[43m]\u001b[49m\u001b[43m)\u001b[49m\u001b[43m)\u001b[49m\n",
      "File \u001b[0;32m~/Programming/uni/NLU/NLP-Authorship-Verification/src/indexer.py:76\u001b[0m, in \u001b[0;36mIndexer.apply_i2v\u001b[0;34m(self, indexes)\u001b[0m\n\u001b[1;32m     72\u001b[0m \u001b[38;5;28;01mdef\u001b[39;00m \u001b[38;5;21mapply_i2v\u001b[39m(\u001b[38;5;28mself\u001b[39m, indexes: List[\u001b[38;5;28mlist\u001b[39m]):\n\u001b[1;32m     73\u001b[0m \u001b[38;5;250m    \u001b[39m\u001b[38;5;124;03m\"\"\"\u001b[39;00m\n\u001b[1;32m     74\u001b[0m \u001b[38;5;124;03m    Applies the index-to-value mapping to a list of lists of indices, converting them back to their original values.\u001b[39;00m\n\u001b[1;32m     75\u001b[0m \u001b[38;5;124;03m    \"\"\"\u001b[39;00m\n\u001b[0;32m---> 76\u001b[0m     \u001b[38;5;28;01mreturn\u001b[39;00m [[\u001b[38;5;28mself\u001b[39m\u001b[38;5;241m.\u001b[39mi2v[i] \u001b[38;5;28;01mfor\u001b[39;00m i \u001b[38;5;129;01min\u001b[39;00m row] \u001b[38;5;28;01mfor\u001b[39;00m row \u001b[38;5;129;01min\u001b[39;00m indexes]\n",
      "File \u001b[0;32m~/Programming/uni/NLU/NLP-Authorship-Verification/src/indexer.py:76\u001b[0m, in \u001b[0;36m<listcomp>\u001b[0;34m(.0)\u001b[0m\n\u001b[1;32m     72\u001b[0m \u001b[38;5;28;01mdef\u001b[39;00m \u001b[38;5;21mapply_i2v\u001b[39m(\u001b[38;5;28mself\u001b[39m, indexes: List[\u001b[38;5;28mlist\u001b[39m]):\n\u001b[1;32m     73\u001b[0m \u001b[38;5;250m    \u001b[39m\u001b[38;5;124;03m\"\"\"\u001b[39;00m\n\u001b[1;32m     74\u001b[0m \u001b[38;5;124;03m    Applies the index-to-value mapping to a list of lists of indices, converting them back to their original values.\u001b[39;00m\n\u001b[1;32m     75\u001b[0m \u001b[38;5;124;03m    \"\"\"\u001b[39;00m\n\u001b[0;32m---> 76\u001b[0m     \u001b[38;5;28;01mreturn\u001b[39;00m [[\u001b[38;5;28mself\u001b[39m\u001b[38;5;241m.\u001b[39mi2v[i] \u001b[38;5;28;01mfor\u001b[39;00m i \u001b[38;5;129;01min\u001b[39;00m row] \u001b[38;5;28;01mfor\u001b[39;00m row \u001b[38;5;129;01min\u001b[39;00m indexes]\n",
      "File \u001b[0;32m~/Programming/uni/NLU/NLP-Authorship-Verification/src/indexer.py:76\u001b[0m, in \u001b[0;36m<listcomp>\u001b[0;34m(.0)\u001b[0m\n\u001b[1;32m     72\u001b[0m \u001b[38;5;28;01mdef\u001b[39;00m \u001b[38;5;21mapply_i2v\u001b[39m(\u001b[38;5;28mself\u001b[39m, indexes: List[\u001b[38;5;28mlist\u001b[39m]):\n\u001b[1;32m     73\u001b[0m \u001b[38;5;250m    \u001b[39m\u001b[38;5;124;03m\"\"\"\u001b[39;00m\n\u001b[1;32m     74\u001b[0m \u001b[38;5;124;03m    Applies the index-to-value mapping to a list of lists of indices, converting them back to their original values.\u001b[39;00m\n\u001b[1;32m     75\u001b[0m \u001b[38;5;124;03m    \"\"\"\u001b[39;00m\n\u001b[0;32m---> 76\u001b[0m     \u001b[38;5;28;01mreturn\u001b[39;00m [[\u001b[38;5;28mself\u001b[39m\u001b[38;5;241m.\u001b[39mi2v[i] \u001b[38;5;28;01mfor\u001b[39;00m i \u001b[38;5;129;01min\u001b[39;00m row] \u001b[38;5;28;01mfor\u001b[39;00m row \u001b[38;5;129;01min\u001b[39;00m indexes]\n",
      "\u001b[0;31mAttributeError\u001b[0m: 'Indexer' object has no attribute 'i2i'"
     ]
    }
   ],
   "source": [
    "test.FIRST_POS[:2] == pos_indexer.apply_i2v(pos_indexer.apply_v2i(test.FIRST_POS[:2]))"
   ]
  }
 ],
 "metadata": {
  "kernelspec": {
   "display_name": "Python [conda env:av] *",
   "language": "python",
   "name": "conda-env-av-py"
  },
  "language_info": {
   "codemirror_mode": {
    "name": "ipython",
    "version": 3
   },
   "file_extension": ".py",
   "mimetype": "text/x-python",
   "name": "python",
   "nbconvert_exporter": "python",
   "pygments_lexer": "ipython3",
   "version": "3.9.19"
  }
 },
 "nbformat": 4,
 "nbformat_minor": 5
}
