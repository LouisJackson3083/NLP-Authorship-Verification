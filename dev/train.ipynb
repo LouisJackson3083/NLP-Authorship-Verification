{
 "cells": [
  {
   "cell_type": "code",
   "execution_count": 1,
   "id": "5e48cec9",
   "metadata": {},
   "outputs": [],
   "source": [
    "# Utilities\n",
    "import itertools\n",
    "import importlib\n",
    "import sys\n",
    "import os"
   ]
  },
  {
   "cell_type": "code",
   "execution_count": 2,
   "id": "ad81a511",
   "metadata": {},
   "outputs": [],
   "source": [
    "# Add src to path\n",
    "src_path = os.path.abspath(os.path.join(os.getcwd(), '../src'))\n",
    "if src_path not in sys.path:\n",
    "    sys.path.append(src_path)\n",
    "    \n",
    "import load_and_prepare_data as ld\n",
    "import indexer"
   ]
  },
  {
   "cell_type": "code",
   "execution_count": 13,
   "id": "a5022db6",
   "metadata": {},
   "outputs": [],
   "source": [
    "# Run this to reload our modules\n",
    "importlib.reload(indexer)\n",
    "importlib.reload(ld)\n",
    "from indexer import Indexer"
   ]
  },
  {
   "cell_type": "code",
   "execution_count": 4,
   "id": "3f60a2a3",
   "metadata": {},
   "outputs": [
    {
     "name": "stdout",
     "output_type": "stream",
     "text": [
      "Prepared 30000 data points.\n",
      "Prepared 6000 data points.\n",
      "Training data size:  27000 \n",
      "Dev data size:  6000 \n",
      "Test data size:  3000\n"
     ]
    }
   ],
   "source": [
    "## Preparing data\n",
    "\n",
    "TRAIN_FIRST_TEXTS, TRAIN_SECOND_TEXTS, TRAIN_LABELS  = ld.prepareData(\"../data/train.csv\", True)\n",
    "DEV_FIRST_TEXTS, DEV_SECOND_TEXTS, DEV_LABELS = ld.prepareData(\"../data/dev.csv\", True)\n",
    "\n",
    "TRAIN_FIRST_TEXTS, TRAIN_SECOND_TEXTS, TRAIN_LABELS, \\\n",
    "TEST_FIRST_TEXTS, TEST_SECOND_TEXTS, TEST_LABELS = ld.split_data(TRAIN_FIRST_TEXTS, TRAIN_SECOND_TEXTS, TRAIN_LABELS)\n",
    "\n",
    "print(\"Training data size: \", len(TRAIN_FIRST_TEXTS),\n",
    "     \"\\nDev data size: \", len(DEV_FIRST_TEXTS), \n",
    "     \"\\nTest data size: \", len(TEST_FIRST_TEXTS))"
   ]
  },
  {
   "cell_type": "code",
   "execution_count": 5,
   "id": "41a45d73",
   "metadata": {},
   "outputs": [
    {
     "name": "stdout",
     "output_type": "stream",
     "text": [
      "3000 3000\n",
      "(1/3) Extracting POS . . .\n",
      "(2/3) Extracting Punctuation . . .\n",
      "(3/3) Extracting Information . . .\n",
      "Cleaned up all data!\n",
      "2995 2995\n"
     ]
    }
   ],
   "source": [
    "test = ld.Dataset(TEST_FIRST_TEXTS, TEST_SECOND_TEXTS, TEST_LABELS)\n",
    "print(len(test.FIRST_TEXTS), len(TEST_FIRST_TEXTS))\n",
    "test.ExtractFeatures()\n",
    "print(len(test.FIRST_TEXTS), len(TEST_FIRST_TEXTS))"
   ]
  },
  {
   "cell_type": "code",
   "execution_count": 6,
   "id": "16b61d13",
   "metadata": {},
   "outputs": [
    {
     "name": "stdout",
     "output_type": "stream",
     "text": [
      "{0: 0, 1: 1}\n",
      "{0: 0, 1: 1}\n"
     ]
    }
   ],
   "source": [
    "label_indexer = Indexer(values=test.LABELS)\n",
    "label_indexer.i2v\n",
    "label_indexer.save(\"i2v.json\", \"v2i.json\")"
   ]
  },
  {
   "cell_type": "code",
   "execution_count": 14,
   "id": "56a79d65",
   "metadata": {},
   "outputs": [],
   "source": [
    "POS_VALS = list(itertools.chain(*test.FIRST_POS[:2] + test.SECOND_POS[:2]))\n",
    "pos_indexer = Indexer(values=POS_VALS, pre=indexer.POS_PRE)"
   ]
  },
  {
   "cell_type": "code",
   "execution_count": 15,
   "id": "a17e9533",
   "metadata": {},
   "outputs": [
    {
     "data": {
      "text/plain": [
       "{0: '<PAD>',\n",
       " 1: '<UNK>',\n",
       " 2: 'UH',\n",
       " 3: 'VBD',\n",
       " 4: 'WP',\n",
       " 5: 'VBG',\n",
       " 6: 'NNP',\n",
       " 7: 'IN',\n",
       " 8: 'PRP',\n",
       " 9: 'VB',\n",
       " 10: 'RB',\n",
       " 11: 'WDT',\n",
       " 12: 'JJR',\n",
       " 13: '(',\n",
       " 14: 'NNS',\n",
       " 15: ':',\n",
       " 16: 'MD',\n",
       " 17: ',',\n",
       " 18: 'POS',\n",
       " 19: 'JJ',\n",
       " 20: 'PRP$',\n",
       " 21: 'NNPS',\n",
       " 22: 'CC',\n",
       " 23: 'WRB',\n",
       " 24: \"''\",\n",
       " 25: ')',\n",
       " 26: 'NN',\n",
       " 27: 'EX',\n",
       " 28: 'VBP',\n",
       " 29: 'PDT',\n",
       " 30: 'VBN',\n",
       " 31: 'TO',\n",
       " 32: '$',\n",
       " 33: 'DT',\n",
       " 34: 'CD',\n",
       " 35: 'FW',\n",
       " 36: '``',\n",
       " 37: 'JJS',\n",
       " 38: '.',\n",
       " 39: 'RP',\n",
       " 40: 'VBZ'}"
      ]
     },
     "execution_count": 15,
     "metadata": {},
     "output_type": "execute_result"
    }
   ],
   "source": [
    "pos_indexer.i2v"
   ]
  }
 ],
 "metadata": {
  "kernelspec": {
   "display_name": "Python [conda env:av] *",
   "language": "python",
   "name": "conda-env-av-py"
  },
  "language_info": {
   "codemirror_mode": {
    "name": "ipython",
    "version": 3
   },
   "file_extension": ".py",
   "mimetype": "text/x-python",
   "name": "python",
   "nbconvert_exporter": "python",
   "pygments_lexer": "ipython3",
   "version": "3.9.19"
  }
 },
 "nbformat": 4,
 "nbformat_minor": 5
}
